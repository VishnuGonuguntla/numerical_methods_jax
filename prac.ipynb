{
 "cells": [
  {
   "cell_type": "code",
   "execution_count": null,
   "id": "b0bd6a0b",
   "metadata": {},
   "outputs": [
    {
     "name": "stdout",
     "output_type": "stream",
     "text": [
      "35\n"
     ]
    }
   ],
   "source": [
    "import numpy as np\n",
    "\n",
    "a = lambda y: 3*y + 5\n",
    "print(a(10))"
   ]
  },
  {
   "cell_type": "code",
   "execution_count": 3,
   "id": "79da76a6",
   "metadata": {},
   "outputs": [
    {
     "name": "stdout",
     "output_type": "stream",
     "text": [
      "h = 0.5, min f(x,h) = 15.999999999985448, at x = 15.999994484643551\n",
      "15.999999999985448\n",
      "h = 0.25, min f(x,h) = 31.99999999976717, at x = 32.00003515445758\n",
      "31.99999999976717\n",
      "h = 0.125, min f(x,h) = 63.999999998137355, at x = 63.9999902532908\n",
      "63.999999998137355\n"
     ]
    }
   ],
   "source": [
    "from scipy.optimize import minimize_scalar\n",
    "\n",
    "def f(x, h):\n",
    "    return (x**4)/4 - (8*x**3)/h + (h**2*x**2)/2 + (96*x**2)/h**2 -8*h*x - (512*x)/h**3 + 8/h + 1024/h**4 + 32\n",
    "\n",
    "for h in [0.5, 0.25, 0.125]:\n",
    "    res = minimize_scalar(lambda x: f(x, h))\n",
    "    print(f\"h = {h}, min f(x,h) = {res.fun}, at x = {res.x}\")\n",
    "\n",
    "    print(f(res.x,h))\n",
    "    \n"
   ]
  }
 ],
 "metadata": {
  "kernelspec": {
   "display_name": ".venv",
   "language": "python",
   "name": "python3"
  },
  "language_info": {
   "codemirror_mode": {
    "name": "ipython",
    "version": 3
   },
   "file_extension": ".py",
   "mimetype": "text/x-python",
   "name": "python",
   "nbconvert_exporter": "python",
   "pygments_lexer": "ipython3",
   "version": "3.13.2"
  }
 },
 "nbformat": 4,
 "nbformat_minor": 5
}
